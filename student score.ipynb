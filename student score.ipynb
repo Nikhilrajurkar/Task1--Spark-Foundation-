{
 "cells": [
  {
   "cell_type": "markdown",
   "id": "e6174e6d",
   "metadata": {},
   "source": [
    "# NIKHIL RAJURKAR"
   ]
  },
  {
   "cell_type": "markdown",
   "id": "510d0a48",
   "metadata": {},
   "source": [
    "Linkedin: https://www.linkedin.com/in/nikhil-rajurkar-9130nikh/\n",
    "\n",
    "GitHub: https://github.com/Nikhilrajurkar"
   ]
  },
  {
   "cell_type": "markdown",
   "id": "86669387",
   "metadata": {},
   "source": [
    "# Task #1: Prediction using supervised machine learning."
   ]
  },
  {
   "cell_type": "markdown",
   "id": "481f2c90",
   "metadata": {},
   "source": [
    "# To predict the percentage of a student based on the number of study hours"
   ]
  },
  {
   "cell_type": "code",
   "execution_count": 1,
   "id": "01dd59ec",
   "metadata": {
    "ExecuteTime": {
     "end_time": "2022-03-18T04:50:11.116297Z",
     "start_time": "2022-03-18T04:50:06.163943Z"
    }
   },
   "outputs": [],
   "source": [
    "#importing libraries\n",
    "import pandas as pd \n",
    "import numpy as np\n",
    "import matplotlib.pyplot as plt\n",
    "import seaborn as sns"
   ]
  },
  {
   "cell_type": "code",
   "execution_count": 2,
   "id": "f87127a8",
   "metadata": {
    "ExecuteTime": {
     "end_time": "2022-03-18T04:50:11.171637Z",
     "start_time": "2022-03-18T04:50:11.123287Z"
    }
   },
   "outputs": [],
   "source": [
    "#data loading\n",
    "df=pd.read_csv('student_scores - student_scores.csv')"
   ]
  },
  {
   "cell_type": "code",
   "execution_count": 3,
   "id": "30d1ade9",
   "metadata": {
    "ExecuteTime": {
     "end_time": "2022-03-18T04:50:11.228484Z",
     "start_time": "2022-03-18T04:50:11.175726Z"
    }
   },
   "outputs": [
    {
     "data": {
      "text/html": [
       "<div>\n",
       "<style scoped>\n",
       "    .dataframe tbody tr th:only-of-type {\n",
       "        vertical-align: middle;\n",
       "    }\n",
       "\n",
       "    .dataframe tbody tr th {\n",
       "        vertical-align: top;\n",
       "    }\n",
       "\n",
       "    .dataframe thead th {\n",
       "        text-align: right;\n",
       "    }\n",
       "</style>\n",
       "<table border=\"1\" class=\"dataframe\">\n",
       "  <thead>\n",
       "    <tr style=\"text-align: right;\">\n",
       "      <th></th>\n",
       "      <th>Hours</th>\n",
       "      <th>Scores</th>\n",
       "    </tr>\n",
       "  </thead>\n",
       "  <tbody>\n",
       "    <tr>\n",
       "      <th>0</th>\n",
       "      <td>2.5</td>\n",
       "      <td>21</td>\n",
       "    </tr>\n",
       "    <tr>\n",
       "      <th>1</th>\n",
       "      <td>5.1</td>\n",
       "      <td>47</td>\n",
       "    </tr>\n",
       "    <tr>\n",
       "      <th>2</th>\n",
       "      <td>3.2</td>\n",
       "      <td>27</td>\n",
       "    </tr>\n",
       "    <tr>\n",
       "      <th>3</th>\n",
       "      <td>8.5</td>\n",
       "      <td>75</td>\n",
       "    </tr>\n",
       "    <tr>\n",
       "      <th>4</th>\n",
       "      <td>3.5</td>\n",
       "      <td>30</td>\n",
       "    </tr>\n",
       "  </tbody>\n",
       "</table>\n",
       "</div>"
      ],
      "text/plain": [
       "   Hours  Scores\n",
       "0    2.5      21\n",
       "1    5.1      47\n",
       "2    3.2      27\n",
       "3    8.5      75\n",
       "4    3.5      30"
      ]
     },
     "execution_count": 3,
     "metadata": {},
     "output_type": "execute_result"
    }
   ],
   "source": [
    "#top 5 rows\n",
    "df.head()"
   ]
  },
  {
   "cell_type": "code",
   "execution_count": 4,
   "id": "e7c67a87",
   "metadata": {
    "ExecuteTime": {
     "end_time": "2022-03-18T04:50:11.259787Z",
     "start_time": "2022-03-18T04:50:11.232794Z"
    }
   },
   "outputs": [
    {
     "data": {
      "text/plain": [
       "Hours     0\n",
       "Scores    0\n",
       "dtype: int64"
      ]
     },
     "execution_count": 4,
     "metadata": {},
     "output_type": "execute_result"
    }
   ],
   "source": [
    "#checking null values\n",
    "df.isnull().sum()"
   ]
  },
  {
   "cell_type": "code",
   "execution_count": 5,
   "id": "c46ede7e",
   "metadata": {
    "ExecuteTime": {
     "end_time": "2022-03-18T04:50:11.294910Z",
     "start_time": "2022-03-18T04:50:11.270702Z"
    }
   },
   "outputs": [
    {
     "data": {
      "text/plain": [
       "0"
      ]
     },
     "execution_count": 5,
     "metadata": {},
     "output_type": "execute_result"
    }
   ],
   "source": [
    "#checking duplicates\n",
    "df.duplicated().sum()"
   ]
  },
  {
   "cell_type": "code",
   "execution_count": 6,
   "id": "72c17ba7",
   "metadata": {
    "ExecuteTime": {
     "end_time": "2022-03-18T04:50:11.976163Z",
     "start_time": "2022-03-18T04:50:11.301838Z"
    }
   },
   "outputs": [
    {
     "data": {
      "text/plain": [
       "<AxesSubplot:>"
      ]
     },
     "execution_count": 6,
     "metadata": {},
     "output_type": "execute_result"
    },
    {
     "data": {
      "image/png": "[encoded data removed]",
      "text/plain": [
       "<Figure size 432x288 with 2 Axes>"
      ]
     },
     "metadata": {
      "needs_background": "light"
     },
     "output_type": "display_data"
    }
   ],
   "source": [
    "#correlation\n",
    "sns.heatmap(df.corr(),cmap='Blues',annot=True)"
   ]
  },
  {
   "cell_type": "code",
   "execution_count": 7,
   "id": "488a6197",
   "metadata": {
    "ExecuteTime": {
     "end_time": "2022-03-18T04:50:13.591022Z",
     "start_time": "2022-03-18T04:50:11.981542Z"
    },
    "scrolled": true
   },
   "outputs": [
    {
     "data": {
      "text/plain": [
       "<seaborn.axisgrid.PairGrid at 0x1dc65288820>"
      ]
     },
     "execution_count": 7,
     "metadata": {},
     "output_type": "execute_result"
    },
    {
     "data": {
      "image/png": "[encoded data removed]",
      "text/plain": [
       "<Figure size 360x360 with 6 Axes>"
      ]
     },
     "metadata": {
      "needs_background": "light"
     },
     "output_type": "display_data"
    }
   ],
   "source": [
    "sns.pairplot(df)"
   ]
  },
  {
   "cell_type": "markdown",
   "id": "72b27f93",
   "metadata": {
    "ExecuteTime": {
     "end_time": "2022-03-15T13:03:37.617316Z",
     "start_time": "2022-03-15T13:03:37.439803Z"
    },
    "scrolled": true
   },
   "source": [
    "# chechking outliers by using boxplot\n"
   ]
  },
  {
   "cell_type": "code",
   "execution_count": 8,
   "id": "deab7ff9",
   "metadata": {
    "ExecuteTime": {
     "end_time": "2022-03-18T04:50:13.895861Z",
     "start_time": "2022-03-18T04:50:13.596157Z"
    }
   },
   "outputs": [
    {
     "data": {
      "text/plain": [
       "<AxesSubplot:>"
      ]
     },
     "execution_count": 8,
     "metadata": {},
     "output_type": "execute_result"
    },
    {
     "data": {
      "image/png": "[encoded data removed]",
      "text/plain": [
       "<Figure size 432x288 with 1 Axes>"
      ]
     },
     "metadata": {
      "needs_background": "light"
     },
     "output_type": "display_data"
    }
   ],
   "source": [
    "df.boxplot()"
   ]
  },
  {
   "cell_type": "markdown",
   "id": "93c37030",
   "metadata": {},
   "source": [
    "# Preprocessing the data"
   ]
  },
  {
   "cell_type": "code",
   "execution_count": 9,
   "id": "edbdccf9",
   "metadata": {
    "ExecuteTime": {
     "end_time": "2022-03-18T04:50:13.914360Z",
     "start_time": "2022-03-18T04:50:13.898496Z"
    }
   },
   "outputs": [],
   "source": [
    "X = df.iloc[:, :-1].values  \n",
    "Y = df.iloc[:, 1].values  "
   ]
  },
  {
   "cell_type": "markdown",
   "id": "487a798b",
   "metadata": {
    "ExecuteTime": {
     "end_time": "2022-03-15T13:05:42.572412Z",
     "start_time": "2022-03-15T13:05:42.564811Z"
    }
   },
   "source": [
    "# Simple Linear Regression Model\n",
    "\n",
    "\n",
    "\n",
    "# Fitting out model on training data and making testing predictions\n",
    "\n",
    "\n",
    "\n"
   ]
  },
  {
   "cell_type": "code",
   "execution_count": 10,
   "id": "f5d1e23b",
   "metadata": {
    "ExecuteTime": {
     "end_time": "2022-03-18T04:50:14.722194Z",
     "start_time": "2022-03-18T04:50:13.920606Z"
    }
   },
   "outputs": [],
   "source": [
    "from sklearn.linear_model import LinearRegression\n",
    "from sklearn.model_selection import train_test_split\n",
    "from sklearn import metrics"
   ]
  },
  {
   "cell_type": "code",
   "execution_count": 11,
   "id": "e1b6b7c4",
   "metadata": {
    "ExecuteTime": {
     "end_time": "2022-03-18T04:50:14.740062Z",
     "start_time": "2022-03-18T04:50:14.722194Z"
    }
   },
   "outputs": [],
   "source": [
    "x_train, x_test, y_train, y_test = train_test_split(X,Y, test_size=0.20, random_state=33)"
   ]
  },
  {
   "cell_type": "code",
   "execution_count": 12,
   "id": "b9a901c7",
   "metadata": {
    "ExecuteTime": {
     "end_time": "2022-03-18T04:50:14.795814Z",
     "start_time": "2022-03-18T04:50:14.746507Z"
    }
   },
   "outputs": [],
   "source": [
    "lr=LinearRegression()\n",
    "model=lr.fit(x_train,y_train)"
   ]
  },
  {
   "cell_type": "code",
   "execution_count": 13,
   "id": "ddb9a4d2",
   "metadata": {
    "ExecuteTime": {
     "end_time": "2022-03-18T04:50:14.827295Z",
     "start_time": "2022-03-18T04:50:14.802053Z"
    },
    "scrolled": false
   },
   "outputs": [
    {
     "data": {
      "text/plain": [
       "array([77.32541818, 87.74823954, 21.42119451, 17.63107765, 36.58166195])"
      ]
     },
     "execution_count": 13,
     "metadata": {},
     "output_type": "execute_result"
    }
   ],
   "source": [
    "y_pred=model.predict(x_test)\n",
    "y_pred"
   ]
  },
  {
   "cell_type": "code",
   "execution_count": 14,
   "id": "9c2b387b",
   "metadata": {
    "ExecuteTime": {
     "end_time": "2022-03-18T04:50:14.869175Z",
     "start_time": "2022-03-18T04:50:14.843810Z"
    },
    "scrolled": false
   },
   "outputs": [
    {
     "data": {
      "text/plain": [
       "6.056677377013201"
      ]
     },
     "execution_count": 14,
     "metadata": {},
     "output_type": "execute_result"
    }
   ],
   "source": [
    "rmse=np.sqrt(metrics.mean_squared_error(y_test,y_pred))\n",
    "rmse"
   ]
  },
  {
   "cell_type": "code",
   "execution_count": 15,
   "id": "e8aae37a",
   "metadata": {
    "ExecuteTime": {
     "end_time": "2022-03-18T04:50:14.919363Z",
     "start_time": "2022-03-18T04:50:14.874407Z"
    },
    "scrolled": true
   },
   "outputs": [
    {
     "data": {
      "text/html": [
       "<div>\n",
       "<style scoped>\n",
       "    .dataframe tbody tr th:only-of-type {\n",
       "        vertical-align: middle;\n",
       "    }\n",
       "\n",
       "    .dataframe tbody tr th {\n",
       "        vertical-align: top;\n",
       "    }\n",
       "\n",
       "    .dataframe thead th {\n",
       "        text-align: right;\n",
       "    }\n",
       "</style>\n",
       "<table border=\"1\" class=\"dataframe\">\n",
       "  <thead>\n",
       "    <tr style=\"text-align: right;\">\n",
       "      <th></th>\n",
       "      <th>0</th>\n",
       "      <th>1</th>\n",
       "      <th>2</th>\n",
       "      <th>3</th>\n",
       "      <th>4</th>\n",
       "    </tr>\n",
       "  </thead>\n",
       "  <tbody>\n",
       "    <tr>\n",
       "      <th>Actual</th>\n",
       "      <td>86.000000</td>\n",
       "      <td>95.00000</td>\n",
       "      <td>24.000000</td>\n",
       "      <td>20.000000</td>\n",
       "      <td>30.000000</td>\n",
       "    </tr>\n",
       "    <tr>\n",
       "      <th>Predicted</th>\n",
       "      <td>77.325418</td>\n",
       "      <td>87.74824</td>\n",
       "      <td>21.421195</td>\n",
       "      <td>17.631078</td>\n",
       "      <td>36.581662</td>\n",
       "    </tr>\n",
       "  </tbody>\n",
       "</table>\n",
       "</div>"
      ],
      "text/plain": [
       "                   0         1          2          3          4\n",
       "Actual     86.000000  95.00000  24.000000  20.000000  30.000000\n",
       "Predicted  77.325418  87.74824  21.421195  17.631078  36.581662"
      ]
     },
     "execution_count": 15,
     "metadata": {},
     "output_type": "execute_result"
    }
   ],
   "source": [
    "#Comparing actual and predicted scores of students\n",
    "data=pd.DataFrame({\"Actual\": y_test,\"Predicted\": y_pred})\n",
    "data.T"
   ]
  },
  {
   "cell_type": "code",
   "execution_count": 24,
   "id": "bcceeaa6",
   "metadata": {
    "ExecuteTime": {
     "end_time": "2022-03-18T04:52:47.306769Z",
     "start_time": "2022-03-18T04:52:47.006160Z"
    }
   },
   "outputs": [
    {
     "data": {
      "image/png": "[encoded data removed]",
      "text/plain": [
       "<Figure size 432x288 with 1 Axes>"
      ]
     },
     "metadata": {
      "needs_background": "light"
     },
     "output_type": "display_data"
    }
   ],
   "source": [
    "#Bar diagram showing actual and predicted scores of students\n",
    "data.plot(kind=\"bar\",color=(\"black\",\"red\"))\n",
    "plt.xlabel(\"Index\")\n",
    "plt.ylabel(\"Scores\")\n",
    "plt.title(\"Actual VS Predicted scores on hours of study\")\n",
    "plt.show()"
   ]
  },
  {
   "cell_type": "markdown",
   "id": "bfe73eb9",
   "metadata": {},
   "source": [
    "## prediction for student studies for 9.25 hrs/day "
   ]
  },
  {
   "cell_type": "code",
   "execution_count": 16,
   "id": "87d16818",
   "metadata": {
    "ExecuteTime": {
     "end_time": "2022-03-18T04:50:14.943234Z",
     "start_time": "2022-03-18T04:50:14.923351Z"
    },
    "scrolled": true
   },
   "outputs": [],
   "source": [
    "hours=9.25"
   ]
  },
  {
   "cell_type": "code",
   "execution_count": 17,
   "id": "f7eb38f9",
   "metadata": {
    "ExecuteTime": {
     "end_time": "2022-03-18T04:50:14.970545Z",
     "start_time": "2022-03-18T04:50:14.948804Z"
    }
   },
   "outputs": [
    {
     "data": {
      "text/plain": [
       "array([91.0645918])"
      ]
     },
     "execution_count": 17,
     "metadata": {},
     "output_type": "execute_result"
    }
   ],
   "source": [
    "predict_hours=model.predict([[hours]])\n",
    "predict_hours"
   ]
  }
 ],
 "metadata": {
  "kernelspec": {
   "display_name": "Python 3 (ipykernel)",
   "language": "python",
   "name": "python3"
  },
  "language_info": {
   "codemirror_mode": {
    "name": "ipython",
    "version": 3
   },
   "file_extension": ".py",
   "mimetype": "text/x-python",
   "name": "python",
   "nbconvert_exporter": "python",
   "pygments_lexer": "ipython3",
   "version": "3.9.7"
  }
 },
 "nbformat": 4,
 "nbformat_minor": 5
}
